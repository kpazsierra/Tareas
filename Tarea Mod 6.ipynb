{
 "cells": [
  {
   "cell_type": "markdown",
   "metadata": {},
   "source": [
    "__Exercise 2 - Create a markdown cell with the notebook title. (1 pt)__\n",
    "\n",
    "Tarea Mod 6"
   ]
  },
  {
   "cell_type": "markdown",
   "metadata": {},
   "source": [
    "__Exercise 3 - Create a markdown cell for an introduction. (1 pt)__\n",
    "\n",
    "This activity corresponds to a task from module 6 of the Data Science Tools course"
   ]
  },
  {
   "cell_type": "markdown",
   "metadata": {},
   "source": [
    "__Exercise 4 – Create a markdown cell to list data science languages. (3 points)__\n",
    "\n",
    "Data science languages are:Python, R, SQL, Julia, Scala, Java, Matlab"
   ]
  },
  {
   "cell_type": "markdown",
   "metadata": {},
   "source": [
    "__Exercise 5 – Create a markdown cell to list data science libraries. (3 points)__"
   ]
  },
  {
   "cell_type": "markdown",
   "metadata": {},
   "source": [
    "Data science libraries are: \n",
    "\n",
    "Python:\n",
    "\n",
    "- Pandas\n",
    "- Numpy\n",
    "- Plotly\n",
    "- Tensorflow\n",
    "- Matplotlib\n",
    "- Seaborn\n",
    "- scikit-learn\n",
    "- Keras\n",
    "- PyTorch\n",
    "\n",
    "\n",
    "R:\n",
    "\n",
    "- ggplot2\n",
    "- forecast\n",
    "- rpart\n",
    "- caret\n",
    "- tidyr\n",
    "- dplyr\n",
    "- rpart\n",
    "- randomForest"
   ]
  },
  {
   "cell_type": "markdown",
   "metadata": {},
   "source": [
    "__Exercise 6 - Create a markdown cell with a Data Science tools table. (3 points)__"
   ]
  },
  {
   "cell_type": "markdown",
   "metadata": {},
   "source": [
    "| Python | R |\n",
    "| ------ | ------|\n",
    "| Pandas | ggplot2 |\n",
    "| Numpy | forescast |\n",
    "| Matplotlib | caret |"
   ]
  },
  {
   "cell_type": "markdown",
   "metadata": {},
   "source": [
    "__Exercise 7 - Create a markdown cell by entering examples of arithmetic expressions. (1 pt)__"
   ]
  },
  {
   "cell_type": "markdown",
   "metadata": {},
   "source": [
    "x = 10; y = 3\n",
    "\n",
    "Sum x + y = 13\n",
    "\n",
    "Minus x -y = 7\n",
    "\n",
    "Multiplication x * y = 30\n",
    "\n",
    "Division x/y = 3.333"
   ]
  },
  {
   "cell_type": "markdown",
   "metadata": {},
   "source": [
    "__Exercise 8 - Create a code cell to multiply and add numbers. (2 pts)__"
   ]
  },
  {
   "cell_type": "code",
   "execution_count": 1,
   "metadata": {},
   "outputs": [
    {
     "name": "stdout",
     "output_type": "stream",
     "text": [
      "30\n"
     ]
    }
   ],
   "source": [
    "x = 10\n",
    "y = 3\n",
    "\n",
    "a = x*y\n",
    "print(a)"
   ]
  },
  {
   "cell_type": "markdown",
   "metadata": {},
   "source": [
    "__Exercise 9 - Create a code cell to convert minutes to hours. (2 pts)__"
   ]
  },
  {
   "cell_type": "code",
   "execution_count": 2,
   "metadata": {},
   "outputs": [
    {
     "data": {
      "text/plain": [
       "2.0166666666666666"
      ]
     },
     "execution_count": 2,
     "metadata": {},
     "output_type": "execute_result"
    }
   ],
   "source": [
    "minutos = 121 # ingresar minutos\n",
    "horas = minutos/60\n",
    "horas"
   ]
  },
  {
   "cell_type": "markdown",
   "metadata": {},
   "source": [
    "__Exercise 10 -Insert a code cell to list Objectives. (3 pts)__"
   ]
  },
  {
   "cell_type": "code",
   "execution_count": 3,
   "metadata": {},
   "outputs": [
    {
     "data": {
      "text/plain": [
       "['Levantarme', 'trabajar', 'descanzar', 'dormir']"
      ]
     },
     "execution_count": 3,
     "metadata": {},
     "output_type": "execute_result"
    }
   ],
   "source": [
    "objetivos = [\"Levantarme\", \"trabajar\", \"descanzar\", \"dormir\"]\n",
    "objetivos"
   ]
  },
  {
   "cell_type": "markdown",
   "metadata": {},
   "source": [
    "__Exercise 11 - Create a markdown cell to indicate the Author name. (2 pts)__"
   ]
  },
  {
   "cell_type": "markdown",
   "metadata": {},
   "source": [
    "Autor: Katherine Paz Sierra"
   ]
  }
 ],
 "metadata": {
  "kernelspec": {
   "display_name": "Python 3",
   "language": "python",
   "name": "python3"
  },
  "language_info": {
   "codemirror_mode": {
    "name": "ipython",
    "version": 3
   },
   "file_extension": ".py",
   "mimetype": "text/x-python",
   "name": "python",
   "nbconvert_exporter": "python",
   "pygments_lexer": "ipython3",
   "version": "3.10.4"
  }
 },
 "nbformat": 4,
 "nbformat_minor": 2
}
